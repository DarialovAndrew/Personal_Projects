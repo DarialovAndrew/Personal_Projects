{
 "cells": [
  {
   "cell_type": "code",
   "execution_count": 1,
   "id": "agricultural-barbados",
   "metadata": {},
   "outputs": [],
   "source": [
    "import numpy as np\n",
    "import time \n",
    "import tensorflow as tf\n",
    "import matplotlib.pyplot as plt\n",
    "from sklearn.metrics import classification_report\n",
    "from tensorflow.keras.metrics import Precision,Recall,Accuracy"
   ]
  },
  {
   "cell_type": "code",
   "execution_count": 2,
   "id": "worse-booking",
   "metadata": {},
   "outputs": [],
   "source": [
    "class F1_Score(tf.keras.metrics.Metric):\n",
    "\n",
    "    def __init__(self, name='f1_score', **kwargs):\n",
    "        super().__init__(name=name, **kwargs)\n",
    "        self.f1 = self.add_weight(name='f1', initializer='zeros')\n",
    "        self.precision_fn = Precision(thresholds=0.5)\n",
    "        self.recall_fn = Recall(thresholds=0.5)\n",
    "\n",
    "    def update_state(self, y_true, y_pred, sample_weight=None):\n",
    "        p = self.precision_fn(y_true, y_pred)\n",
    "        r = self.recall_fn(y_true, y_pred)\n",
    "        # since f1 is a variable, we use assign\n",
    "        self.f1.assign(2 * ((p * r) / (p + r + 1e-6)))\n",
    "\n",
    "    def result(self):\n",
    "        return self.f1\n",
    "\n",
    "    def reset_states(self):\n",
    "        # we also need to reset the state of the precision and recall objects\n",
    "        self.precision_fn.reset_states()\n",
    "        self.recall_fn.reset_states()\n",
    "        self.f1.assign(0)"
   ]
  },
  {
   "cell_type": "code",
   "execution_count": 3,
   "id": "designed-fiber",
   "metadata": {},
   "outputs": [],
   "source": [
    "(X_train,y_train),(X_test,y_test)=tf.keras.datasets.cifar10.load_data()\n",
    "split=int(0.2*(X_train.shape[0]))\n",
    "X_validation=X_train[:split]\n",
    "y_validation=y_train[:split]\n",
    "X_train=X_train[split:]\n",
    "y_train=y_train[split:]"
   ]
  },
  {
   "cell_type": "code",
   "execution_count": 1,
   "id": "rural-coupon",
   "metadata": {},
   "outputs": [
    {
     "ename": "SyntaxError",
     "evalue": "EOL while scanning string literal (<ipython-input-1-722e29cc29fd>, line 1)",
     "output_type": "error",
     "traceback": [
      "\u001b[1;36m  File \u001b[1;32m\"<ipython-input-1-722e29cc29fd>\"\u001b[1;36m, line \u001b[1;32m1\u001b[0m\n\u001b[1;33m    print(\"X_train shape : {}\\ny_train shape : {}\\nX_validation shape :\u001b[0m\n\u001b[1;37m                                                                        ^\u001b[0m\n\u001b[1;31mSyntaxError\u001b[0m\u001b[1;31m:\u001b[0m EOL while scanning string literal\n"
     ]
    }
   ],
   "source": [
    "print(\"X_train shape : {}\\ny_train shape : {}\\nX_validation shape : {}\\ny_validation shape : {}\\nX_test shape : {}\\ny_test shape : {}\".format(X_train.shape,y_train.shape,X_validation.shape,y_validation.shape,X_test.shape,y_test.shape))"
   ]
  },
  {
   "cell_type": "code",
   "execution_count": 5,
   "id": "laughing-baking",
   "metadata": {},
   "outputs": [],
   "source": [
    "classes=['airplane','automobile','bird','cat','deer','dog','frog','horse','ship','truck']"
   ]
  },
  {
   "cell_type": "code",
   "execution_count": 6,
   "id": "desperate-trainer",
   "metadata": {},
   "outputs": [],
   "source": [
    "def plot_sample(X,y,index):\n",
    "    plt.imshow(X[index])\n",
    "    plt.xlabel(classes[y[index][0]])"
   ]
  },
  {
   "cell_type": "code",
   "execution_count": 7,
   "id": "horizontal-housing",
   "metadata": {},
   "outputs": [
    {
     "data": {
      "image/png": "[encoded data removed]",
      "text/plain": [
       "<Figure size 432x288 with 1 Axes>"
      ]
     },
     "metadata": {
      "needs_background": "light"
     },
     "output_type": "display_data"
    }
   ],
   "source": [
    "plot_sample(X_train,y_train,1006)"
   ]
  },
  {
   "cell_type": "code",
   "execution_count": 8,
   "id": "still-tsunami",
   "metadata": {},
   "outputs": [],
   "source": [
    "X_train,X_validation,X_test = X_train/255,X_validation/255,X_test/255\n",
    "y_train = tf.reshape(tf.one_hot(y_train,10),(y_train.shape[0],10)).numpy()\n",
    "y_validation = tf.reshape(tf.one_hot(y_validation,10),(y_validation.shape[0],10)).numpy()"
   ]
  },
  {
   "cell_type": "markdown",
   "id": "rising-billy",
   "metadata": {},
   "source": [
    "# Basic model"
   ]
  },
  {
   "cell_type": "code",
   "execution_count": 9,
   "id": "understood-traffic",
   "metadata": {
    "scrolled": false
   },
   "outputs": [
    {
     "name": "stdout",
     "output_type": "stream",
     "text": [
      "Epoch 1/5\n",
      "   1/1250 [..............................] - ETA: 0s - loss: 2.3001 - accuracy: 0.1250 - f1_score: 0.0000e+00WARNING:tensorflow:From C:\\Users\\Andrew\\anaconda3\\envs\\NAVI\\lib\\site-packages\\tensorflow\\python\\ops\\summary_ops_v2.py:1277: stop (from tensorflow.python.eager.profiler) is deprecated and will be removed after 2020-07-01.\n",
      "Instructions for updating:\n",
      "use `tf.profiler.experimental.stop` instead.\n",
      "1250/1250 [==============================] - 38s 31ms/step - loss: 1.5540 - accuracy: 0.4301 - f1_score: 0.3073 - val_loss: 1.2535 - val_accuracy: 0.5435 - val_f1_score: 0.4821\n",
      "Epoch 2/5\n",
      "1250/1250 [==============================] - 46s 37ms/step - loss: 1.1960 - accuracy: 0.5752 - f1_score: 0.5219 - val_loss: 1.0885 - val_accuracy: 0.6149 - val_f1_score: 0.5824\n",
      "Epoch 3/5\n",
      "1250/1250 [==============================] - 45s 36ms/step - loss: 1.0307 - accuracy: 0.6342 - f1_score: 0.6041 - val_loss: 1.0376 - val_accuracy: 0.6355 - val_f1_score: 0.6034\n",
      "Epoch 4/5\n",
      "1250/1250 [==============================] - 42s 34ms/step - loss: 0.9010 - accuracy: 0.6837 - f1_score: 0.6643 - val_loss: 0.9238 - val_accuracy: 0.6780 - val_f1_score: 0.6687\n",
      "Epoch 5/5\n",
      "1250/1250 [==============================] - 42s 33ms/step - loss: 0.8234 - accuracy: 0.7095 - f1_score: 0.6983 - val_loss: 0.9263 - val_accuracy: 0.6816 - val_f1_score: 0.6753\n",
      "Time:  215.99926567077637\n",
      "Classification report\n",
      "               precision    recall  f1-score   support\n",
      "\n",
      "           0       0.82      0.67      0.73      1000\n",
      "           1       0.84      0.75      0.79      1000\n",
      "           2       0.58      0.56      0.57      1000\n",
      "           3       0.54      0.48      0.51      1000\n",
      "           4       0.61      0.68      0.64      1000\n",
      "           5       0.55      0.67      0.61      1000\n",
      "           6       0.81      0.71      0.76      1000\n",
      "           7       0.74      0.71      0.73      1000\n",
      "           8       0.81      0.76      0.78      1000\n",
      "           9       0.64      0.87      0.74      1000\n",
      "\n",
      "    accuracy                           0.69     10000\n",
      "   macro avg       0.69      0.69      0.69     10000\n",
      "weighted avg       0.69      0.69      0.69     10000\n",
      "\n"
     ]
    }
   ],
   "source": [
    "NAME='BasicModel {}'.format(int(time.time()))\n",
    "tensorboard=tf.keras.callbacks.TensorBoard(log_dir='logs/{}'.format(NAME))\n",
    "\n",
    "model=tf.keras.models.Sequential([\n",
    "    tf.keras.layers.Conv2D(32,kernel_size=(3,3),strides=(1,1),activation='relu',input_shape=(32,32,3)),\n",
    "    tf.keras.layers.MaxPool2D(2,2),\n",
    "    tf.keras.layers.Conv2D(64,kernel_size=(3,3),strides=(1,1),activation='relu'),\n",
    "    tf.keras.layers.MaxPool2D(2,2),\n",
    "    tf.keras.layers.Conv2D(64,kernel_size=(3,3),strides=(1,1),activation='relu'),\n",
    "    tf.keras.layers.MaxPool2D(2,2),\n",
    "    tf.keras.layers.Flatten(),\n",
    "    tf.keras.layers.Dense(512,activation='relu'),\n",
    "    tf.keras.layers.Dense(10,activation='softmax')\n",
    "])\n",
    "model.compile(optimizer='adam',\n",
    "             loss='categorical_crossentropy',\n",
    "             metrics=['accuracy',F1_Score()])\n",
    "time1 = time.time()\n",
    "history = model.fit(X_train,y_train,validation_data=(X_validation,y_validation),epochs=5,batch_size=32,callbacks=[tensorboard])\n",
    "time2 = time.time()\n",
    "print(\"Time: \",time2-time1)\n",
    "\n",
    "y_pred=model.predict(X_test)\n",
    "\n",
    "y_pred_classes = [np.argmax(element) for element in y_pred]\n",
    "\n",
    "print(\"Classification report\\n\", classification_report(y_test,y_pred_classes))"
   ]
  },
  {
   "cell_type": "markdown",
   "id": "innocent-album",
   "metadata": {},
   "source": [
    "# Change Number of Filters"
   ]
  },
  {
   "cell_type": "code",
   "execution_count": 10,
   "id": "recent-reggae",
   "metadata": {},
   "outputs": [
    {
     "name": "stdout",
     "output_type": "stream",
     "text": [
      "Epoch 1/5\n",
      "   2/1250 [..............................] - ETA: 12:09 - loss: 2.2970 - accuracy: 0.1719 - f1_score: 0.0000e+00WARNING:tensorflow:Callbacks method `on_train_batch_end` is slow compared to the batch time (batch time: 0.0329s vs `on_train_batch_end` time: 1.1366s). Check your callbacks.\n",
      "1250/1250 [==============================] - 46s 37ms/step - loss: 1.5031 - accuracy: 0.4512 - f1_score: 0.3473 - val_loss: 1.1601 - val_accuracy: 0.5853 - val_f1_score: 0.5254\n",
      "Epoch 2/5\n",
      "1250/1250 [==============================] - 49s 39ms/step - loss: 1.1034 - accuracy: 0.6108 - f1_score: 0.5725 - val_loss: 1.0627 - val_accuracy: 0.6273 - val_f1_score: 0.6068\n",
      "Epoch 3/5\n",
      "1250/1250 [==============================] - 46s 36ms/step - loss: 0.9279 - accuracy: 0.6730 - f1_score: 0.6550 - val_loss: 0.9241 - val_accuracy: 0.6810 - val_f1_score: 0.6684\n",
      "Epoch 4/5\n",
      "1250/1250 [==============================] - 46s 37ms/step - loss: 0.8116 - accuracy: 0.7159 - f1_score: 0.7037 - val_loss: 0.8609 - val_accuracy: 0.7037 - val_f1_score: 0.6874\n",
      "Epoch 5/5\n",
      "1250/1250 [==============================] - 46s 37ms/step - loss: 0.7140 - accuracy: 0.7507 - f1_score: 0.7429 - val_loss: 0.8516 - val_accuracy: 0.7088 - val_f1_score: 0.7091\n",
      "Time:  234.18671488761902\n",
      "Classification report\n",
      "               precision    recall  f1-score   support\n",
      "\n",
      "           0       0.72      0.78      0.75      1000\n",
      "           1       0.87      0.78      0.82      1000\n",
      "           2       0.58      0.57      0.58      1000\n",
      "           3       0.51      0.55      0.53      1000\n",
      "           4       0.65      0.62      0.64      1000\n",
      "           5       0.73      0.47      0.57      1000\n",
      "           6       0.62      0.89      0.73      1000\n",
      "           7       0.82      0.70      0.76      1000\n",
      "           8       0.83      0.81      0.82      1000\n",
      "           9       0.76      0.83      0.79      1000\n",
      "\n",
      "    accuracy                           0.70     10000\n",
      "   macro avg       0.71      0.70      0.70     10000\n",
      "weighted avg       0.71      0.70      0.70     10000\n",
      "\n"
     ]
    }
   ],
   "source": [
    "#Third convolution has more filters (128 instead of 64)\n",
    "NAME='HighFilters {}'.format(int(time.time()))\n",
    "tensorboard=tf.keras.callbacks.TensorBoard(log_dir='logs/{}'.format(NAME))\n",
    "\n",
    "model=tf.keras.models.Sequential([\n",
    "    tf.keras.layers.Conv2D(32,kernel_size=(3,3),strides=(1,1),activation='relu',input_shape=(32,32,3)),\n",
    "    tf.keras.layers.MaxPool2D(2,2),\n",
    "    tf.keras.layers.Conv2D(64,kernel_size=(3,3),strides=(1,1),activation='relu'),\n",
    "    tf.keras.layers.MaxPool2D(2,2),\n",
    "    tf.keras.layers.Conv2D(128,kernel_size=(3,3),strides=(1,1),activation='relu'),\n",
    "    tf.keras.layers.MaxPool2D(2,2),\n",
    "    tf.keras.layers.Flatten(),\n",
    "    tf.keras.layers.Dense(512,activation='relu'),\n",
    "    tf.keras.layers.Dense(10,activation='softmax')\n",
    "])\n",
    "model.compile(optimizer='adam',\n",
    "             loss='categorical_crossentropy',\n",
    "             metrics=['accuracy',F1_Score()])\n",
    "time1 = time.time()\n",
    "history = model.fit(X_train,y_train,validation_data=(X_validation,y_validation),epochs=5,batch_size=32,callbacks=[tensorboard])\n",
    "time2 = time.time()\n",
    "print(\"Time: \",time2-time1)\n",
    "\n",
    "y_pred=model.predict(X_test)\n",
    "\n",
    "y_pred_classes = [np.argmax(element) for element in y_pred]\n",
    "\n",
    "print(\"Classification report\\n\", classification_report(y_test,y_pred_classes))\n",
    "#Apply changes"
   ]
  },
  {
   "cell_type": "markdown",
   "id": "serial-request",
   "metadata": {},
   "source": [
    "# Change Filters' Dimensions"
   ]
  },
  {
   "cell_type": "code",
   "execution_count": 11,
   "id": "atomic-glass",
   "metadata": {},
   "outputs": [
    {
     "name": "stdout",
     "output_type": "stream",
     "text": [
      "Epoch 1/5\n",
      "   2/1250 [..............................] - ETA: 12:24 - loss: 2.3116 - accuracy: 0.0469 - f1_score: 0.0000e+00WARNING:tensorflow:Callbacks method `on_train_batch_end` is slow compared to the batch time (batch time: 0.0349s vs `on_train_batch_end` time: 1.1595s). Check your callbacks.\n",
      "1250/1250 [==============================] - 40s 32ms/step - loss: 1.5911 - accuracy: 0.4125 - f1_score: 0.2746 - val_loss: 1.3402 - val_accuracy: 0.5149 - val_f1_score: 0.4035\n",
      "Epoch 2/5\n",
      "1250/1250 [==============================] - 43s 34ms/step - loss: 1.2310 - accuracy: 0.5595 - f1_score: 0.5032 - val_loss: 1.1331 - val_accuracy: 0.5999 - val_f1_score: 0.5537\n",
      "Epoch 3/5\n",
      "1250/1250 [==============================] - 43s 34ms/step - loss: 1.0554 - accuracy: 0.6306 - f1_score: 0.6008 - val_loss: 1.0730 - val_accuracy: 0.6279 - val_f1_score: 0.6116\n",
      "Epoch 4/5\n",
      "1250/1250 [==============================] - 44s 35ms/step - loss: 0.9339 - accuracy: 0.6714 - f1_score: 0.6547 - val_loss: 1.0070 - val_accuracy: 0.6546 - val_f1_score: 0.6413\n",
      "Epoch 5/5\n",
      "1250/1250 [==============================] - 44s 35ms/step - loss: 0.8431 - accuracy: 0.7048 - f1_score: 0.6927 - val_loss: 0.9780 - val_accuracy: 0.6616 - val_f1_score: 0.6545\n",
      "Time:  216.08025407791138\n",
      "Classification report\n",
      "               precision    recall  f1-score   support\n",
      "\n",
      "           0       0.69      0.67      0.68      1000\n",
      "           1       0.82      0.79      0.81      1000\n",
      "           2       0.60      0.49      0.54      1000\n",
      "           3       0.47      0.54      0.50      1000\n",
      "           4       0.52      0.70      0.60      1000\n",
      "           5       0.66      0.50      0.57      1000\n",
      "           6       0.77      0.71      0.74      1000\n",
      "           7       0.72      0.72      0.72      1000\n",
      "           8       0.68      0.80      0.74      1000\n",
      "           9       0.79      0.71      0.75      1000\n",
      "\n",
      "    accuracy                           0.66     10000\n",
      "   macro avg       0.67      0.66      0.66     10000\n",
      "weighted avg       0.67      0.66      0.66     10000\n",
      "\n"
     ]
    }
   ],
   "source": [
    "#Convolutions have higher kernel_size (4,4)\n",
    "NAME='HighFiltersDim {}'.format(int(time.time()))\n",
    "tensorboard=tf.keras.callbacks.TensorBoard(log_dir='logs/{}'.format(NAME))\n",
    "\n",
    "model=tf.keras.models.Sequential([\n",
    "    tf.keras.layers.Conv2D(32,kernel_size=(4,4),strides=(1,1),activation='relu',input_shape=(32,32,3)),\n",
    "    tf.keras.layers.MaxPool2D(2,2),\n",
    "    tf.keras.layers.Conv2D(64,kernel_size=(4,4),strides=(1,1),activation='relu'),\n",
    "    tf.keras.layers.MaxPool2D(2,2),\n",
    "    tf.keras.layers.Conv2D(128,kernel_size=(4,4),strides=(1,1),activation='relu'),\n",
    "    tf.keras.layers.MaxPool2D(2,2),\n",
    "    tf.keras.layers.Flatten(),\n",
    "    tf.keras.layers.Dense(512,activation='relu'),\n",
    "    tf.keras.layers.Dense(10,activation='softmax')\n",
    "])\n",
    "model.compile(optimizer='adam',\n",
    "             loss='categorical_crossentropy',\n",
    "             metrics=['accuracy',F1_Score()])\n",
    "time1 = time.time()\n",
    "history = model.fit(X_train,y_train,validation_data=(X_validation,y_validation),epochs=5,batch_size=32,callbacks=[tensorboard])\n",
    "time2 = time.time()\n",
    "print(\"Time: \",time2-time1)\n",
    "\n",
    "y_pred=model.predict(X_test)\n",
    "\n",
    "y_pred_classes = [np.argmax(element) for element in y_pred]\n",
    "\n",
    "print(\"Classification report\\n\", classification_report(y_test,y_pred_classes))"
   ]
  },
  {
   "cell_type": "code",
   "execution_count": 12,
   "id": "turned-permit",
   "metadata": {},
   "outputs": [
    {
     "name": "stdout",
     "output_type": "stream",
     "text": [
      "Epoch 1/5\n",
      "   2/1250 [..............................] - ETA: 14:07 - loss: 2.3387 - accuracy: 0.1719 - f1_score: 0.0000e+00WARNING:tensorflow:Callbacks method `on_train_batch_end` is slow compared to the batch time (batch time: 0.0349s vs `on_train_batch_end` time: 1.3217s). Check your callbacks.\n",
      "1250/1250 [==============================] - 43s 34ms/step - loss: 1.4537 - accuracy: 0.4720 - f1_score: 0.3726 - val_loss: 1.1094 - val_accuracy: 0.6087 - val_f1_score: 0.5427\n",
      "Epoch 2/5\n",
      "1250/1250 [==============================] - 44s 35ms/step - loss: 1.0551 - accuracy: 0.6283 - f1_score: 0.5950 - val_loss: 1.0197 - val_accuracy: 0.6418 - val_f1_score: 0.6163\n",
      "Epoch 3/5\n",
      "1250/1250 [==============================] - 46s 37ms/step - loss: 0.8823 - accuracy: 0.6920 - f1_score: 0.6752 - val_loss: 0.9295 - val_accuracy: 0.6736 - val_f1_score: 0.6641\n",
      "Epoch 4/5\n",
      "1250/1250 [==============================] - 47s 38ms/step - loss: 0.7477 - accuracy: 0.7377 - f1_score: 0.7296 - val_loss: 0.8949 - val_accuracy: 0.6870 - val_f1_score: 0.6863\n",
      "Epoch 5/5\n",
      "1250/1250 [==============================] - 46s 36ms/step - loss: 0.6447 - accuracy: 0.7731 - f1_score: 0.7687 - val_loss: 0.8102 - val_accuracy: 0.7143 - val_f1_score: 0.7139\n",
      "Time:  227.7554976940155\n",
      "Classification report\n",
      "               precision    recall  f1-score   support\n",
      "\n",
      "           0       0.78      0.75      0.77      1000\n",
      "           1       0.75      0.90      0.82      1000\n",
      "           2       0.61      0.66      0.63      1000\n",
      "           3       0.48      0.67      0.56      1000\n",
      "           4       0.80      0.54      0.64      1000\n",
      "           5       0.64      0.62      0.63      1000\n",
      "           6       0.82      0.74      0.78      1000\n",
      "           7       0.80      0.75      0.78      1000\n",
      "           8       0.82      0.83      0.83      1000\n",
      "           9       0.83      0.73      0.78      1000\n",
      "\n",
      "    accuracy                           0.72     10000\n",
      "   macro avg       0.73      0.72      0.72     10000\n",
      "weighted avg       0.73      0.72      0.72     10000\n",
      "\n"
     ]
    }
   ],
   "source": [
    "# Convolutions have lower kernel_size (2,2)\n",
    "NAME='LowerFiltersDim {}'.format(int(time.time()))\n",
    "tensorboard=tf.keras.callbacks.TensorBoard(log_dir='logs/{}'.format(NAME))\n",
    "\n",
    "model=tf.keras.models.Sequential([\n",
    "    tf.keras.layers.Conv2D(32,kernel_size=(2,2),strides=(1,1),activation='relu',input_shape=(32,32,3)),\n",
    "    tf.keras.layers.MaxPool2D(2,2),\n",
    "    tf.keras.layers.Conv2D(64,kernel_size=(2,2),strides=(1,1),activation='relu'),\n",
    "    tf.keras.layers.MaxPool2D(2,2),\n",
    "    tf.keras.layers.Conv2D(128,kernel_size=(2,2),strides=(1,1),activation='relu'),\n",
    "    tf.keras.layers.MaxPool2D(2,2),\n",
    "    tf.keras.layers.Flatten(),\n",
    "    tf.keras.layers.Dense(512,activation='relu'),\n",
    "    tf.keras.layers.Dense(10,activation='softmax')\n",
    "])\n",
    "model.compile(optimizer='adam',\n",
    "             loss='categorical_crossentropy',\n",
    "             metrics=['accuracy',F1_Score()])\n",
    "time1 = time.time()\n",
    "history = model.fit(X_train,y_train,validation_data=(X_validation,y_validation),epochs=5,batch_size=32,callbacks=[tensorboard])\n",
    "time2 = time.time()\n",
    "print(\"Time: \",time2-time1)\n",
    "\n",
    "y_pred=model.predict(X_test)\n",
    "\n",
    "y_pred_classes = [np.argmax(element) for element in y_pred]\n",
    "\n",
    "print(\"Classification report\\n\", classification_report(y_test,y_pred_classes))\n",
    "#Apply changes"
   ]
  },
  {
   "cell_type": "markdown",
   "id": "latest-vehicle",
   "metadata": {},
   "source": [
    "# Change Strides"
   ]
  },
  {
   "cell_type": "code",
   "execution_count": 13,
   "id": "excess-quest",
   "metadata": {},
   "outputs": [
    {
     "name": "stdout",
     "output_type": "stream",
     "text": [
      "Epoch 1/5\n",
      "   2/1250 [..............................] - ETA: 15:36 - loss: 2.3007 - accuracy: 0.0781 - f1_score: 0.0000e+00WARNING:tensorflow:Callbacks method `on_train_batch_end` is slow compared to the batch time (batch time: 0.0080s vs `on_train_batch_end` time: 1.4918s). Check your callbacks.\n",
      "1250/1250 [==============================] - 12s 9ms/step - loss: 1.7288 - accuracy: 0.3555 - f1_score: 0.1694 - val_loss: 1.4724 - val_accuracy: 0.4581 - val_f1_score: 0.3357\n",
      "Epoch 2/5\n",
      "1250/1250 [==============================] - 9s 7ms/step - loss: 1.4147 - accuracy: 0.4810 - f1_score: 0.3849 - val_loss: 1.3470 - val_accuracy: 0.5045 - val_f1_score: 0.4361\n",
      "Epoch 3/5\n",
      "1250/1250 [==============================] - 9s 7ms/step - loss: 1.2951 - accuracy: 0.5302 - f1_score: 0.4655 - val_loss: 1.3663 - val_accuracy: 0.5106 - val_f1_score: 0.4437\n",
      "Epoch 4/5\n",
      "1250/1250 [==============================] - 10s 8ms/step - loss: 1.2151 - accuracy: 0.5618 - f1_score: 0.5089 - val_loss: 1.2213 - val_accuracy: 0.5646 - val_f1_score: 0.5120\n",
      "Epoch 5/5\n",
      "1250/1250 [==============================] - 10s 8ms/step - loss: 1.1563 - accuracy: 0.5829 - f1_score: 0.5436 - val_loss: 1.1827 - val_accuracy: 0.5790 - val_f1_score: 0.5184\n",
      "Time:  51.71679711341858\n",
      "Classification report\n",
      "               precision    recall  f1-score   support\n",
      "\n",
      "           0       0.58      0.65      0.61      1000\n",
      "           1       0.66      0.71      0.68      1000\n",
      "           2       0.39      0.50      0.44      1000\n",
      "           3       0.40      0.45      0.42      1000\n",
      "           4       0.48      0.61      0.53      1000\n",
      "           5       0.51      0.41      0.45      1000\n",
      "           6       0.73      0.60      0.66      1000\n",
      "           7       0.66      0.58      0.62      1000\n",
      "           8       0.76      0.65      0.70      1000\n",
      "           9       0.72      0.53      0.61      1000\n",
      "\n",
      "    accuracy                           0.57     10000\n",
      "   macro avg       0.59      0.57      0.57     10000\n",
      "weighted avg       0.59      0.57      0.57     10000\n",
      "\n"
     ]
    }
   ],
   "source": [
    "#Strides are bigger (2,2)\n",
    "NAME='StridesBigger {}'.format(int(time.time()))\n",
    "tensorboard=tf.keras.callbacks.TensorBoard(log_dir='logs/{}'.format(NAME))\n",
    "\n",
    "model=tf.keras.models.Sequential([\n",
    "    tf.keras.layers.Conv2D(32,kernel_size=(2,2),strides=(2,2),activation='relu',input_shape=(32,32,3)),\n",
    "    tf.keras.layers.MaxPool2D(2,2),\n",
    "    tf.keras.layers.Conv2D(64,kernel_size=(2,2),strides=(2,2),activation='relu'),\n",
    "    tf.keras.layers.MaxPool2D(2,2),\n",
    "    tf.keras.layers.Conv2D(128,kernel_size=(2,2),strides=(2,2),activation='relu'),\n",
    "    tf.keras.layers.Flatten(),\n",
    "    tf.keras.layers.Dense(512,activation='relu'),\n",
    "    tf.keras.layers.Dense(10,activation='softmax')\n",
    "])\n",
    "model.compile(optimizer='adam',\n",
    "             loss='categorical_crossentropy',\n",
    "             metrics=['accuracy',F1_Score()])\n",
    "time1 = time.time()\n",
    "history = model.fit(X_train,y_train,validation_data=(X_validation,y_validation),epochs=5,batch_size=32,callbacks=[tensorboard])\n",
    "time2 = time.time()\n",
    "print(\"Time: \",time2-time1)\n",
    "\n",
    "y_pred=model.predict(X_test)\n",
    "\n",
    "y_pred_classes = [np.argmax(element) for element in y_pred]\n",
    "\n",
    "print(\"Classification report\\n\", classification_report(y_test,y_pred_classes))"
   ]
  },
  {
   "cell_type": "markdown",
   "id": "municipal-marketing",
   "metadata": {},
   "source": [
    "# Change Padding"
   ]
  },
  {
   "cell_type": "code",
   "execution_count": 14,
   "id": "obvious-interest",
   "metadata": {},
   "outputs": [
    {
     "name": "stdout",
     "output_type": "stream",
     "text": [
      "Epoch 1/5\n",
      "   2/1250 [..............................] - ETA: 12:33 - loss: 2.3234 - accuracy: 0.0312 - f1_score: 0.0000e+00WARNING:tensorflow:Callbacks method `on_train_batch_end` is slow compared to the batch time (batch time: 0.0309s vs `on_train_batch_end` time: 1.1766s). Check your callbacks.\n",
      "1250/1250 [==============================] - 46s 37ms/step - loss: 1.4599 - accuracy: 0.4708 - f1_score: 0.3666 - val_loss: 1.1883 - val_accuracy: 0.5811 - val_f1_score: 0.5075\n",
      "Epoch 2/5\n",
      "1250/1250 [==============================] - 44s 35ms/step - loss: 1.0812 - accuracy: 0.6169 - f1_score: 0.5778 - val_loss: 1.0602 - val_accuracy: 0.6303 - val_f1_score: 0.6140\n",
      "Epoch 3/5\n",
      "1250/1250 [==============================] - 46s 37ms/step - loss: 0.9174 - accuracy: 0.6773 - f1_score: 0.6572 - val_loss: 0.9616 - val_accuracy: 0.6614 - val_f1_score: 0.6417\n",
      "Epoch 4/5\n",
      "1250/1250 [==============================] - 44s 35ms/step - loss: 0.7883 - accuracy: 0.7235 - f1_score: 0.7133 - val_loss: 0.8515 - val_accuracy: 0.7008 - val_f1_score: 0.6863\n",
      "Epoch 5/5\n",
      "1250/1250 [==============================] - 45s 36ms/step - loss: 0.6842 - accuracy: 0.7594 - f1_score: 0.7519 - val_loss: 0.8531 - val_accuracy: 0.7068 - val_f1_score: 0.6996\n",
      "Time:  226.0255172252655\n",
      "Classification report\n",
      "               precision    recall  f1-score   support\n",
      "\n",
      "           0       0.71      0.77      0.74      1000\n",
      "           1       0.75      0.86      0.80      1000\n",
      "           2       0.62      0.64      0.63      1000\n",
      "           3       0.57      0.52      0.55      1000\n",
      "           4       0.68      0.62      0.65      1000\n",
      "           5       0.70      0.50      0.59      1000\n",
      "           6       0.79      0.76      0.77      1000\n",
      "           7       0.80      0.73      0.76      1000\n",
      "           8       0.66      0.92      0.77      1000\n",
      "           9       0.78      0.72      0.75      1000\n",
      "\n",
      "    accuracy                           0.70     10000\n",
      "   macro avg       0.71      0.70      0.70     10000\n",
      "weighted avg       0.71      0.70      0.70     10000\n",
      "\n"
     ]
    }
   ],
   "source": [
    "#Padding=valid\n",
    "NAME='PaddingValid {}'.format(int(time.time()))\n",
    "tensorboard=tf.keras.callbacks.TensorBoard(log_dir='logs/{}'.format(NAME))\n",
    "\n",
    "model=tf.keras.models.Sequential([\n",
    "    tf.keras.layers.Conv2D(32,kernel_size=(2,2),strides=(1,1),activation='relu',padding='valid',input_shape=(32,32,3)),\n",
    "    tf.keras.layers.MaxPool2D(2,2),\n",
    "    tf.keras.layers.Conv2D(64,kernel_size=(2,2),strides=(1,1),activation='relu',padding='valid'),\n",
    "    tf.keras.layers.MaxPool2D(2,2),\n",
    "    tf.keras.layers.Conv2D(128,kernel_size=(2,2),strides=(1,1),activation='relu',padding='valid'),\n",
    "    tf.keras.layers.MaxPool2D(2,2),\n",
    "    tf.keras.layers.Flatten(),\n",
    "    tf.keras.layers.Dense(512,activation='relu'),\n",
    "    tf.keras.layers.Dense(10,activation='softmax')\n",
    "])\n",
    "model.compile(optimizer='adam',\n",
    "             loss='categorical_crossentropy',\n",
    "             metrics=['accuracy',F1_Score()])\n",
    "time1 = time.time()\n",
    "history = model.fit(X_train,y_train,validation_data=(X_validation,y_validation),epochs=5,batch_size=32,callbacks=[tensorboard])\n",
    "time2 = time.time()\n",
    "print(\"Time: \",time2-time1)\n",
    "\n",
    "y_pred=model.predict(X_test)\n",
    "\n",
    "y_pred_classes = [np.argmax(element) for element in y_pred]\n",
    "\n",
    "print(\"Classification report\\n\", classification_report(y_test,y_pred_classes))"
   ]
  },
  {
   "cell_type": "markdown",
   "id": "developmental-seattle",
   "metadata": {},
   "source": [
    "# BatchNormalization"
   ]
  },
  {
   "cell_type": "code",
   "execution_count": 15,
   "id": "hybrid-island",
   "metadata": {},
   "outputs": [
    {
     "name": "stdout",
     "output_type": "stream",
     "text": [
      "Epoch 1/5\n",
      "   2/1250 [..............................] - ETA: 14:40 - loss: 2.8322 - accuracy: 0.0938 - f1_score: 0.0000e+00WARNING:tensorflow:Callbacks method `on_train_batch_end` is slow compared to the batch time (batch time: 0.0399s vs `on_train_batch_end` time: 1.3707s). Check your callbacks.\n",
      "1250/1250 [==============================] - 56s 45ms/step - loss: 1.2454 - accuracy: 0.5791 - f1_score: 0.5626 - val_loss: 1.0039 - val_accuracy: 0.6474 - val_f1_score: 0.6387\n",
      "Epoch 2/5\n",
      "1250/1250 [==============================] - 58s 47ms/step - loss: 0.7914 - accuracy: 0.7254 - f1_score: 0.7169 - val_loss: 0.9041 - val_accuracy: 0.6909 - val_f1_score: 0.6855\n",
      "Epoch 3/5\n",
      "1250/1250 [==============================] - 61s 49ms/step - loss: 0.6104 - accuracy: 0.7878 - f1_score: 0.7853 - val_loss: 0.8828 - val_accuracy: 0.7140 - val_f1_score: 0.7176\n",
      "Epoch 4/5\n",
      "1250/1250 [==============================] - 58s 46ms/step - loss: 0.4547 - accuracy: 0.8400 - f1_score: 0.8390 - val_loss: 0.8693 - val_accuracy: 0.7223 - val_f1_score: 0.7232\n",
      "Epoch 5/5\n",
      "1250/1250 [==============================] - 56s 45ms/step - loss: 0.3248 - accuracy: 0.8876 - f1_score: 0.8867 - val_loss: 0.8946 - val_accuracy: 0.7333 - val_f1_score: 0.7341\n",
      "Time:  291.9609684944153\n",
      "Classification report\n",
      "               precision    recall  f1-score   support\n",
      "\n",
      "           0       0.78      0.78      0.78      1000\n",
      "           1       0.88      0.81      0.84      1000\n",
      "           2       0.69      0.63      0.66      1000\n",
      "           3       0.59      0.48      0.53      1000\n",
      "           4       0.63      0.72      0.67      1000\n",
      "           5       0.60      0.70      0.64      1000\n",
      "           6       0.79      0.80      0.80      1000\n",
      "           7       0.71      0.81      0.76      1000\n",
      "           8       0.87      0.82      0.84      1000\n",
      "           9       0.82      0.80      0.81      1000\n",
      "\n",
      "    accuracy                           0.73     10000\n",
      "   macro avg       0.74      0.73      0.73     10000\n",
      "weighted avg       0.74      0.73      0.73     10000\n",
      "\n"
     ]
    }
   ],
   "source": [
    "#AddBatchNormalization\n",
    "NAME='BatchNorm {}'.format(int(time.time()))\n",
    "tensorboard=tf.keras.callbacks.TensorBoard(log_dir='logs/{}'.format(NAME))\n",
    "\n",
    "model=tf.keras.models.Sequential([\n",
    "    tf.keras.layers.Conv2D(32,kernel_size=(2,2),strides=(1,1),activation='relu',input_shape=(32,32,3)),\n",
    "    tf.keras.layers.MaxPool2D(2,2),\n",
    "    tf.keras.layers.BatchNormalization(),\n",
    "    tf.keras.layers.Conv2D(64,kernel_size=(2,2),strides=(1,1),activation='relu'),\n",
    "    tf.keras.layers.MaxPool2D(2,2),\n",
    "    tf.keras.layers.BatchNormalization(),\n",
    "    tf.keras.layers.Conv2D(128,kernel_size=(2,2),strides=(1,1),activation='relu'),\n",
    "    tf.keras.layers.MaxPool2D(2,2),\n",
    "    tf.keras.layers.BatchNormalization(),\n",
    "    tf.keras.layers.Flatten(),\n",
    "    tf.keras.layers.Dense(512,activation='relu'),\n",
    "    tf.keras.layers.Dense(10,activation='softmax')\n",
    "])\n",
    "model.compile(optimizer='adam',\n",
    "             loss='categorical_crossentropy',\n",
    "             metrics=['accuracy',F1_Score()])\n",
    "time1 = time.time()\n",
    "history = model.fit(X_train,y_train,validation_data=(X_validation,y_validation),epochs=5,batch_size=32,callbacks=[tensorboard])\n",
    "time2 = time.time()\n",
    "print(\"Time: \",time2-time1)\n",
    "\n",
    "y_pred=model.predict(X_test)\n",
    "\n",
    "y_pred_classes = [np.argmax(element) for element in y_pred]\n",
    "\n",
    "print(\"Classification report\\n\", classification_report(y_test,y_pred_classes))\n",
    "#Apply changes"
   ]
  },
  {
   "cell_type": "markdown",
   "id": "fantastic-swimming",
   "metadata": {},
   "source": [
    "# Average Pooling"
   ]
  },
  {
   "cell_type": "code",
   "execution_count": 16,
   "id": "bound-equation",
   "metadata": {},
   "outputs": [
    {
     "name": "stdout",
     "output_type": "stream",
     "text": [
      "Epoch 1/5\n",
      "   2/1250 [..............................] - ETA: 16:18 - loss: 2.9620 - accuracy: 0.1250 - f1_score: 0.0244WARNING:tensorflow:Callbacks method `on_train_batch_end` is slow compared to the batch time (batch time: 0.0419s vs `on_train_batch_end` time: 1.5249s). Check your callbacks.\n",
      "1250/1250 [==============================] - 58s 46ms/step - loss: 1.2443 - accuracy: 0.5789 - f1_score: 0.5632 - val_loss: 1.2093 - val_accuracy: 0.5896 - val_f1_score: 0.5702\n",
      "Epoch 2/5\n",
      "1250/1250 [==============================] - 57s 46ms/step - loss: 0.7962 - accuracy: 0.7229 - f1_score: 0.7171 - val_loss: 1.0180 - val_accuracy: 0.6704 - val_f1_score: 0.6750\n",
      "Epoch 3/5\n",
      "1250/1250 [==============================] - 56s 45ms/step - loss: 0.6259 - accuracy: 0.7819 - f1_score: 0.7788 - val_loss: 0.8066 - val_accuracy: 0.7299 - val_f1_score: 0.7322\n",
      "Epoch 4/5\n",
      "1250/1250 [==============================] - 55s 44ms/step - loss: 0.4832 - accuracy: 0.8311 - f1_score: 0.8294 - val_loss: 0.9024 - val_accuracy: 0.7019 - val_f1_score: 0.7042\n",
      "Epoch 5/5\n",
      "1250/1250 [==============================] - 56s 45ms/step - loss: 0.3538 - accuracy: 0.8757 - f1_score: 0.8753 - val_loss: 0.9130 - val_accuracy: 0.7240 - val_f1_score: 0.7290\n",
      "Time:  284.31444668769836\n",
      "Classification report\n",
      "               precision    recall  f1-score   support\n",
      "\n",
      "           0       0.74      0.73      0.73      1000\n",
      "           1       0.77      0.91      0.83      1000\n",
      "           2       0.55      0.67      0.60      1000\n",
      "           3       0.54      0.55      0.55      1000\n",
      "           4       0.69      0.69      0.69      1000\n",
      "           5       0.67      0.63      0.65      1000\n",
      "           6       0.81      0.74      0.78      1000\n",
      "           7       0.81      0.76      0.78      1000\n",
      "           8       0.81      0.81      0.81      1000\n",
      "           9       0.89      0.71      0.79      1000\n",
      "\n",
      "    accuracy                           0.72     10000\n",
      "   macro avg       0.73      0.72      0.72     10000\n",
      "weighted avg       0.73      0.72      0.72     10000\n",
      "\n"
     ]
    }
   ],
   "source": [
    "#AveragePooling in the end\n",
    "NAME='AveragePool {}'.format(int(time.time()))\n",
    "tensorboard=tf.keras.callbacks.TensorBoard(log_dir='logs/{}'.format(NAME))\n",
    "\n",
    "model=tf.keras.models.Sequential([\n",
    "    tf.keras.layers.Conv2D(32,kernel_size=(2,2),strides=(1,1),activation='relu',input_shape=(32,32,3)),\n",
    "    tf.keras.layers.MaxPool2D(2,2),\n",
    "    tf.keras.layers.BatchNormalization(),\n",
    "    tf.keras.layers.Conv2D(64,kernel_size=(2,2),strides=(1,1),activation='relu'),\n",
    "    tf.keras.layers.MaxPool2D(2,2),\n",
    "    tf.keras.layers.BatchNormalization(),\n",
    "    tf.keras.layers.Conv2D(128,kernel_size=(2,2),strides=(1,1),activation='relu'),\n",
    "    tf.keras.layers.AveragePooling2D(2,2),\n",
    "    tf.keras.layers.BatchNormalization(),\n",
    "    tf.keras.layers.Flatten(),\n",
    "    tf.keras.layers.Dense(512,activation='relu'),\n",
    "    tf.keras.layers.Dense(10,activation='softmax')\n",
    "])\n",
    "model.compile(optimizer='adam',\n",
    "             loss='categorical_crossentropy',\n",
    "             metrics=['accuracy',F1_Score()])\n",
    "time1 = time.time()\n",
    "history = model.fit(X_train,y_train,validation_data=(X_validation,y_validation),epochs=5,batch_size=32,callbacks=[tensorboard])\n",
    "time2 = time.time()\n",
    "print(\"Time: \",time2-time1)\n",
    "\n",
    "y_pred=model.predict(X_test)\n",
    "\n",
    "y_pred_classes = [np.argmax(element) for element in y_pred]\n",
    "\n",
    "print(\"Classification report\\n\", classification_report(y_test,y_pred_classes))\n"
   ]
  },
  {
   "cell_type": "markdown",
   "id": "demonstrated-correction",
   "metadata": {},
   "source": [
    "# DropOut"
   ]
  },
  {
   "cell_type": "code",
   "execution_count": 17,
   "id": "facial-deputy",
   "metadata": {},
   "outputs": [
    {
     "name": "stdout",
     "output_type": "stream",
     "text": [
      "Epoch 1/5\n",
      "   2/1250 [..............................] - ETA: 17:04 - loss: 2.6411 - accuracy: 0.1875 - f1_score: 0.1446WARNING:tensorflow:Callbacks method `on_train_batch_end` is slow compared to the batch time (batch time: 0.0588s vs `on_train_batch_end` time: 1.5814s). Check your callbacks.\n",
      "1250/1250 [==============================] - 88s 70ms/step - loss: 1.3437 - accuracy: 0.5448 - f1_score: 0.5221 - val_loss: 1.1880 - val_accuracy: 0.5821 - val_f1_score: 0.5663\n",
      "Epoch 2/5\n",
      "1250/1250 [==============================] - 83s 66ms/step - loss: 0.9452 - accuracy: 0.6714 - f1_score: 0.6549 - val_loss: 1.0989 - val_accuracy: 0.6242 - val_f1_score: 0.5891\n",
      "Epoch 3/5\n",
      "1250/1250 [==============================] - 84s 67ms/step - loss: 0.8120 - accuracy: 0.7173 - f1_score: 0.7069 - val_loss: 0.8665 - val_accuracy: 0.7004 - val_f1_score: 0.6807\n",
      "Epoch 4/5\n",
      "1250/1250 [==============================] - 85s 68ms/step - loss: 0.7104 - accuracy: 0.7519 - f1_score: 0.7466 - val_loss: 0.9042 - val_accuracy: 0.6909 - val_f1_score: 0.6830\n",
      "Epoch 5/5\n",
      "1250/1250 [==============================] - 86s 69ms/step - loss: 0.6265 - accuracy: 0.7796 - f1_score: 0.7750 - val_loss: 0.7585 - val_accuracy: 0.7386 - val_f1_score: 0.7380\n",
      "Time:  428.0132727622986\n",
      "Classification report\n",
      "               precision    recall  f1-score   support\n",
      "\n",
      "           0       0.82      0.74      0.78      1000\n",
      "           1       0.88      0.83      0.85      1000\n",
      "           2       0.67      0.63      0.65      1000\n",
      "           3       0.55      0.58      0.57      1000\n",
      "           4       0.61      0.83      0.70      1000\n",
      "           5       0.63      0.69      0.65      1000\n",
      "           6       0.79      0.82      0.81      1000\n",
      "           7       0.86      0.74      0.79      1000\n",
      "           8       0.88      0.82      0.85      1000\n",
      "           9       0.89      0.77      0.83      1000\n",
      "\n",
      "    accuracy                           0.74     10000\n",
      "   macro avg       0.76      0.74      0.75     10000\n",
      "weighted avg       0.76      0.74      0.75     10000\n",
      "\n"
     ]
    }
   ],
   "source": [
    "#DropOut 20%\n",
    "NAME='DropOut20 {}'.format(int(time.time()))\n",
    "tensorboard=tf.keras.callbacks.TensorBoard(log_dir='logs/{}'.format(NAME))\n",
    "\n",
    "model=tf.keras.models.Sequential([\n",
    "    tf.keras.layers.Conv2D(32,kernel_size=(2,2),strides=(1,1),activation='relu',input_shape=(32,32,3)),\n",
    "    tf.keras.layers.Dropout(0.2),\n",
    "    tf.keras.layers.MaxPool2D(2,2),\n",
    "    tf.keras.layers.BatchNormalization(),\n",
    "    tf.keras.layers.Conv2D(64,kernel_size=(2,2),strides=(1,1),activation='relu'),\n",
    "    tf.keras.layers.Dropout(0.2),\n",
    "    tf.keras.layers.MaxPool2D(2,2),\n",
    "    tf.keras.layers.BatchNormalization(),\n",
    "    tf.keras.layers.Conv2D(128,kernel_size=(2,2),strides=(1,1),activation='relu'),\n",
    "    tf.keras.layers.Dropout(0.2),\n",
    "    tf.keras.layers.AveragePooling2D(2,2),\n",
    "    tf.keras.layers.BatchNormalization(),\n",
    "    tf.keras.layers.Flatten(),\n",
    "    tf.keras.layers.Dense(512,activation='relu'),\n",
    "    tf.keras.layers.Dropout(0.2),\n",
    "    tf.keras.layers.Dense(10,activation='softmax')\n",
    "])\n",
    "model.compile(optimizer='adam',\n",
    "             loss='categorical_crossentropy',\n",
    "             metrics=['accuracy',F1_Score()])\n",
    "time1 = time.time()\n",
    "history = model.fit(X_train,y_train,validation_data=(X_validation,y_validation),epochs=5,batch_size=32,callbacks=[tensorboard])\n",
    "time2 = time.time()\n",
    "print(\"Time: \",time2-time1)\n",
    "\n",
    "y_pred=model.predict(X_test)\n",
    "\n",
    "y_pred_classes = [np.argmax(element) for element in y_pred]\n",
    "\n",
    "print(\"Classification report\\n\", classification_report(y_test,y_pred_classes))\n",
    "#Apply Changes "
   ]
  },
  {
   "cell_type": "code",
   "execution_count": 18,
   "id": "thermal-apollo",
   "metadata": {},
   "outputs": [
    {
     "name": "stdout",
     "output_type": "stream",
     "text": [
      "Epoch 1/5\n",
      "   2/1250 [..............................] - ETA: 14:51 - loss: 3.1387 - accuracy: 0.1719 - f1_score: 0.1163WARNING:tensorflow:Callbacks method `on_train_batch_end` is slow compared to the batch time (batch time: 0.0608s vs `on_train_batch_end` time: 1.3670s). Check your callbacks.\n",
      "1250/1250 [==============================] - 85s 68ms/step - loss: 1.5353 - accuracy: 0.4803 - f1_score: 0.4385 - val_loss: 1.5968 - val_accuracy: 0.4401 - val_f1_score: 0.3729\n",
      "Epoch 2/5\n",
      "1250/1250 [==============================] - 84s 67ms/step - loss: 1.1368 - accuracy: 0.5976 - f1_score: 0.5669 - val_loss: 1.7801 - val_accuracy: 0.3864 - val_f1_score: 0.3370\n",
      "Epoch 3/5\n",
      "1250/1250 [==============================] - 85s 68ms/step - loss: 1.0200 - accuracy: 0.6389 - f1_score: 0.6179 - val_loss: 1.4057 - val_accuracy: 0.5263 - val_f1_score: 0.5027\n",
      "Epoch 4/5\n",
      "1250/1250 [==============================] - 85s 68ms/step - loss: 0.9417 - accuracy: 0.6694 - f1_score: 0.6522 - val_loss: 1.0802 - val_accuracy: 0.6314 - val_f1_score: 0.5956\n",
      "Epoch 5/5\n",
      "1250/1250 [==============================] - 85s 68ms/step - loss: 0.8811 - accuracy: 0.6909 - f1_score: 0.6781 - val_loss: 1.0037 - val_accuracy: 0.6505 - val_f1_score: 0.6203\n",
      "Time:  426.7125976085663\n",
      "Classification report\n",
      "               precision    recall  f1-score   support\n",
      "\n",
      "           0       0.69      0.67      0.68      1000\n",
      "           1       0.92      0.58      0.72      1000\n",
      "           2       0.59      0.55      0.57      1000\n",
      "           3       0.39      0.67      0.49      1000\n",
      "           4       0.55      0.66      0.60      1000\n",
      "           5       0.60      0.52      0.55      1000\n",
      "           6       0.78      0.74      0.76      1000\n",
      "           7       0.93      0.53      0.68      1000\n",
      "           8       0.60      0.88      0.71      1000\n",
      "           9       0.87      0.58      0.70      1000\n",
      "\n",
      "    accuracy                           0.64     10000\n",
      "   macro avg       0.69      0.64      0.65     10000\n",
      "weighted avg       0.69      0.64      0.65     10000\n",
      "\n"
     ]
    }
   ],
   "source": [
    "#DropOut 40%\n",
    "NAME='DropOut40 {}'.format(int(time.time()))\n",
    "tensorboard=tf.keras.callbacks.TensorBoard(log_dir='logs/{}'.format(NAME))\n",
    "\n",
    "model=tf.keras.models.Sequential([\n",
    "    tf.keras.layers.Conv2D(32,kernel_size=(2,2),strides=(1,1),activation='relu',input_shape=(32,32,3)),\n",
    "    tf.keras.layers.Dropout(0.4),\n",
    "    tf.keras.layers.MaxPool2D(2,2),\n",
    "    tf.keras.layers.BatchNormalization(),\n",
    "    tf.keras.layers.Conv2D(64,kernel_size=(2,2),strides=(1,1),activation='relu'),\n",
    "    tf.keras.layers.Dropout(0.4),\n",
    "    tf.keras.layers.MaxPool2D(2,2),\n",
    "    tf.keras.layers.BatchNormalization(),\n",
    "    tf.keras.layers.Conv2D(128,kernel_size=(2,2),strides=(1,1),activation='relu'),\n",
    "    tf.keras.layers.Dropout(0.4),\n",
    "    tf.keras.layers.AveragePooling2D(2,2),\n",
    "    tf.keras.layers.BatchNormalization(),\n",
    "    tf.keras.layers.Flatten(),\n",
    "    tf.keras.layers.Dense(512,activation='relu'),\n",
    "    tf.keras.layers.Dropout(0.4),\n",
    "    tf.keras.layers.Dense(10,activation='softmax')\n",
    "])\n",
    "model.compile(optimizer='adam',\n",
    "             loss='categorical_crossentropy',\n",
    "             metrics=['accuracy',F1_Score()])\n",
    "time1 = time.time()\n",
    "history = model.fit(X_train,y_train,validation_data=(X_validation,y_validation),epochs=5,batch_size=32,callbacks=[tensorboard])\n",
    "time2 = time.time()\n",
    "print(\"Time: \",time2-time1)\n",
    "\n",
    "y_pred=model.predict(X_test)\n",
    "\n",
    "y_pred_classes = [np.argmax(element) for element in y_pred]\n",
    "\n",
    "print(\"Classification report\\n\", classification_report(y_test,y_pred_classes))"
   ]
  },
  {
   "cell_type": "markdown",
   "id": "nearby-portsmouth",
   "metadata": {},
   "source": [
    "# Best Model"
   ]
  },
  {
   "cell_type": "code",
   "execution_count": 20,
   "id": "powerful-utilization",
   "metadata": {},
   "outputs": [
    {
     "name": "stdout",
     "output_type": "stream",
     "text": [
      "Epoch 1/5\n",
      "1250/1250 [==============================] - 78s 62ms/step - loss: 1.3857 - accuracy: 0.5321 - f1_score: 0.5030 - val_loss: 1.0401 - val_accuracy: 0.6328 - val_f1_score: 0.6055\n",
      "Epoch 2/5\n",
      "1250/1250 [==============================] - 84s 67ms/step - loss: 0.9714 - accuracy: 0.6594 - f1_score: 0.6436 - val_loss: 1.4567 - val_accuracy: 0.5186 - val_f1_score: 0.4999\n",
      "Epoch 3/5\n",
      "1250/1250 [==============================] - 84s 67ms/step - loss: 0.8281 - accuracy: 0.7104 - f1_score: 0.7012 - val_loss: 1.0613 - val_accuracy: 0.6430 - val_f1_score: 0.6292\n",
      "Epoch 4/5\n",
      "1250/1250 [==============================] - 87s 70ms/step - loss: 0.7283 - accuracy: 0.7440 - f1_score: 0.7386 - val_loss: 1.0447 - val_accuracy: 0.6397 - val_f1_score: 0.6246\n",
      "Epoch 5/5\n",
      "1250/1250 [==============================] - 85s 68ms/step - loss: 0.6477 - accuracy: 0.7714 - f1_score: 0.7686 - val_loss: 0.7910 - val_accuracy: 0.7237 - val_f1_score: 0.7249\n",
      "Time:  418.94953203201294\n"
     ]
    }
   ],
   "source": [
    "model=tf.keras.models.Sequential([\n",
    "    tf.keras.layers.Conv2D(32,kernel_size=(2,2),strides=(1,1),activation='relu',input_shape=(32,32,3)),\n",
    "    tf.keras.layers.Dropout(0.2),\n",
    "    tf.keras.layers.MaxPool2D(2,2),\n",
    "    tf.keras.layers.BatchNormalization(),\n",
    "    tf.keras.layers.Conv2D(64,kernel_size=(2,2),strides=(1,1),activation='relu'),\n",
    "    tf.keras.layers.Dropout(0.2),\n",
    "    tf.keras.layers.MaxPool2D(2,2),\n",
    "    tf.keras.layers.BatchNormalization(),\n",
    "    tf.keras.layers.Conv2D(128,kernel_size=(2,2),strides=(1,1),activation='relu'),\n",
    "    tf.keras.layers.Dropout(0.2),\n",
    "    tf.keras.layers.AveragePooling2D(2,2),\n",
    "    tf.keras.layers.BatchNormalization(),\n",
    "    tf.keras.layers.Flatten(),\n",
    "    tf.keras.layers.Dense(512,activation='relu'),\n",
    "    tf.keras.layers.Dropout(0.2),\n",
    "    tf.keras.layers.Dense(10,activation='softmax')\n",
    "])\n",
    "model.compile(optimizer='adam',\n",
    "             loss='categorical_crossentropy',\n",
    "             metrics=['accuracy',F1_Score()])\n",
    "time1 = time.time()\n",
    "history = model.fit(X_train,y_train,validation_data=(X_validation,y_validation),epochs=5,batch_size=32)\n",
    "time2 = time.time()\n",
    "print(\"Time: \",time2-time1)"
   ]
  },
  {
   "cell_type": "code",
   "execution_count": 21,
   "id": "recovered-adams",
   "metadata": {},
   "outputs": [
    {
     "data": {
      "image/png": "[encoded data removed]",
      "text/plain": [
       "<Figure size 432x288 with 1 Axes>"
      ]
     },
     "metadata": {
      "needs_background": "light"
     },
     "output_type": "display_data"
    }
   ],
   "source": [
    "plot_sample(X_test,y_test,1)"
   ]
  },
  {
   "cell_type": "code",
   "execution_count": 22,
   "id": "joint-business",
   "metadata": {},
   "outputs": [
    {
     "name": "stdout",
     "output_type": "stream",
     "text": [
      "ship\n"
     ]
    }
   ],
   "source": [
    "y_pred=model.predict(X_test)\n",
    "y_pred_classes = [np.argmax(element) for element in y_pred]\n",
    "\n",
    "print(classes[np.argmax(y_pred[1])])"
   ]
  },
  {
   "cell_type": "code",
   "execution_count": null,
   "id": "instant-portuguese",
   "metadata": {},
   "outputs": [],
   "source": []
  }
 ],
 "metadata": {
  "kernelspec": {
   "display_name": "Python 3",
   "language": "python",
   "name": "python3"
  },
  "language_info": {
   "codemirror_mode": {
    "name": "ipython",
    "version": 3
   },
   "file_extension": ".py",
   "mimetype": "text/x-python",
   "name": "python",
   "nbconvert_exporter": "python",
   "pygments_lexer": "ipython3",
   "version": "3.8.5"
  }
 },
 "nbformat": 4,
 "nbformat_minor": 5
}
